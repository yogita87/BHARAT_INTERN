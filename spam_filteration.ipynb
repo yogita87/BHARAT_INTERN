{
  "nbformat": 4,
  "nbformat_minor": 0,
  "metadata": {
    "colab": {
      "provenance": []
    },
    "kernelspec": {
      "name": "python3",
      "display_name": "Python 3"
    },
    "language_info": {
      "name": "python"
    }
  },
  "cells": [
    {
      "cell_type": "code",
      "execution_count": 71,
      "metadata": {
        "id": "SBOGDO0t0D1P"
      },
      "outputs": [],
      "source": [
        "import numpy as np\n",
        "import pandas as pd\n",
        "from imblearn.over_sampling import SMOTE\n",
        "from sklearn.linear_model import LogisticRegression\n",
        "from sklearn.model_selection import train_test_split\n",
        "from sklearn.feature_extraction.text import TfidfVectorizer\n",
        "from sklearn.metrics import accuracy_score, classification_report, roc_curve, auc\n",
        "import matplotlib.pyplot as plt\n"
      ]
    },
    {
      "cell_type": "code",
      "source": [
        "mail=pd.read_csv('mail_data.csv')"
      ],
      "metadata": {
        "id": "8PBkHR5e0iIM"
      },
      "execution_count": 72,
      "outputs": []
    },
    {
      "cell_type": "code",
      "source": [
        "print(mail)"
      ],
      "metadata": {
        "colab": {
          "base_uri": "https://localhost:8080/"
        },
        "id": "6gGQeDMA0qoX",
        "outputId": "80ecd130-9c1c-40aa-f177-23ae64cdd352"
      },
      "execution_count": 73,
      "outputs": [
        {
          "output_type": "stream",
          "name": "stdout",
          "text": [
            "     Category                                            Message\n",
            "0         ham  Go until jurong point, crazy.. Available only ...\n",
            "1         ham                      Ok lar... Joking wif u oni...\n",
            "2        spam  Free entry in 2 a wkly comp to win FA Cup fina...\n",
            "3         ham  U dun say so early hor... U c already then say...\n",
            "4         ham  Nah I don't think he goes to usf, he lives aro...\n",
            "...       ...                                                ...\n",
            "5567     spam  This is the 2nd time we have tried 2 contact u...\n",
            "5568      ham               Will ü b going to esplanade fr home?\n",
            "5569      ham  Pity, * was in mood for that. So...any other s...\n",
            "5570      ham  The guy did some bitching but I acted like i'd...\n",
            "5571      ham                         Rofl. Its true to its name\n",
            "\n",
            "[5572 rows x 2 columns]\n"
          ]
        }
      ]
    },
    {
      "cell_type": "code",
      "source": [
        "# Display the first few rows of the dataset\n",
        "print(mail.head())\n"
      ],
      "metadata": {
        "colab": {
          "base_uri": "https://localhost:8080/"
        },
        "id": "3INl-eHm0xGN",
        "outputId": "a7a07596-9523-4b91-a1a9-fbf1a7b4c9f4"
      },
      "execution_count": 74,
      "outputs": [
        {
          "output_type": "stream",
          "name": "stdout",
          "text": [
            "  Category                                            Message\n",
            "0      ham  Go until jurong point, crazy.. Available only ...\n",
            "1      ham                      Ok lar... Joking wif u oni...\n",
            "2     spam  Free entry in 2 a wkly comp to win FA Cup fina...\n",
            "3      ham  U dun say so early hor... U c already then say...\n",
            "4      ham  Nah I don't think he goes to usf, he lives aro...\n"
          ]
        }
      ]
    },
    {
      "cell_type": "code",
      "source": [
        "# checking the number of rows and columns in the dataframe\n",
        "mail.shape"
      ],
      "metadata": {
        "colab": {
          "base_uri": "https://localhost:8080/"
        },
        "id": "1n1IA3Mv19-T",
        "outputId": "919d33d3-34a1-4e9b-f42a-ee9cc37d07fe"
      },
      "execution_count": 75,
      "outputs": [
        {
          "output_type": "execute_result",
          "data": {
            "text/plain": [
              "(5572, 2)"
            ]
          },
          "metadata": {},
          "execution_count": 75
        }
      ]
    },
    {
      "cell_type": "code",
      "source": [
        "# Remove duplicates\n",
        "mail.drop_duplicates(inplace=True)"
      ],
      "metadata": {
        "id": "bYrRXGTr2fBV"
      },
      "execution_count": 76,
      "outputs": []
    },
    {
      "cell_type": "markdown",
      "source": [
        "LABEL ENCODING"
      ],
      "metadata": {
        "id": "ZVJkafik2LKE"
      }
    },
    {
      "cell_type": "code",
      "source": [
        "# label spam mail as 0;  ham mail as 1;\n",
        "\n",
        "mail.loc[mail['Category'] == 'spam', 'Category',] = 0\n",
        "mail.loc[mail['Category'] == 'ham', 'Category',] = 1"
      ],
      "metadata": {
        "id": "WrTLZMv72ERF"
      },
      "execution_count": 77,
      "outputs": []
    },
    {
      "cell_type": "code",
      "source": [
        "# Create a new column 'Label'\n",
        "mail['Label'] = np.where(mail['Category'] == 0, 'spam', 'ham')\n",
        "\n",
        "# Count the occurrences of each label\n",
        "label_counts = mail['Label'].value_counts()\n",
        "\n",
        "# Plot a pie chart\n",
        "plt.figure(figsize=(8, 8))\n",
        "plt.pie(label_counts, labels=label_counts.index, autopct='%1.1f%%', startangle=90, colors=['#ff9999', '#66b3ff'])\n",
        "plt.title('Distribution of Spam and Ham Emails')\n",
        "plt.show()"
      ],
      "metadata": {
        "colab": {
          "base_uri": "https://localhost:8080/",
          "height": 675
        },
        "id": "q9fQLXcn5pYP",
        "outputId": "330af38b-87c2-4433-fba3-fd41075292e1"
      },
      "execution_count": 78,
      "outputs": [
        {
          "output_type": "display_data",
          "data": {
            "text/plain": [
              "<Figure size 800x800 with 1 Axes>"
            ],
            "image/png": "[encoded data removed]"
          },
          "metadata": {}
        }
      ]
    },
    {
      "cell_type": "code",
      "source": [
        "# separating the data as texts and label\n",
        "\n",
        "X = mail['Message']\n",
        "\n",
        "Y = mail['Category']"
      ],
      "metadata": {
        "id": "7ojAbnyM2YVK"
      },
      "execution_count": 79,
      "outputs": []
    },
    {
      "cell_type": "code",
      "source": [
        "print(Y)"
      ],
      "metadata": {
        "colab": {
          "base_uri": "https://localhost:8080/"
        },
        "id": "5zmKv_GC1ajD",
        "outputId": "d2caa3d1-97ca-4eb3-8ae2-331ac5914674"
      },
      "execution_count": 80,
      "outputs": [
        {
          "output_type": "stream",
          "name": "stdout",
          "text": [
            "0       1\n",
            "1       1\n",
            "2       0\n",
            "3       1\n",
            "4       1\n",
            "       ..\n",
            "5567    0\n",
            "5568    1\n",
            "5569    1\n",
            "5570    1\n",
            "5571    1\n",
            "Name: Category, Length: 5157, dtype: object\n"
          ]
        }
      ]
    },
    {
      "cell_type": "markdown",
      "source": [
        "Splitting the data into training data and testing data"
      ],
      "metadata": {
        "id": "0NJdLm_s2tec"
      }
    },
    {
      "cell_type": "code",
      "source": [
        "X_train, X_test, Y_train, Y_test = train_test_split(X, Y, test_size=0.2, random_state=3)"
      ],
      "metadata": {
        "id": "6xt5SbSp2tBU"
      },
      "execution_count": 81,
      "outputs": []
    },
    {
      "cell_type": "code",
      "source": [
        "print(X.shape)\n",
        "print(X_train.shape)\n",
        "print(X_test.shape)"
      ],
      "metadata": {
        "colab": {
          "base_uri": "https://localhost:8080/"
        },
        "id": "eYu__NA83A2o",
        "outputId": "97123d90-b4f5-4fe2-8389-afa417eb3b74"
      },
      "execution_count": 82,
      "outputs": [
        {
          "output_type": "stream",
          "name": "stdout",
          "text": [
            "(5157,)\n",
            "(4125,)\n",
            "(1032,)\n"
          ]
        }
      ]
    },
    {
      "cell_type": "code",
      "metadata": {
        "id": "nLs847nSRibm"
      },
      "source": [
        "from sklearn.feature_extraction.text import TfidfVectorizer\n",
        "\n",
        "# TF-IDF Vectorization\n",
        "feature_extraction = TfidfVectorizer(min_df=1, stop_words='english', lowercase=True)\n",
        "X_train_features = feature_extraction.fit_transform(X_train)\n",
        "X_test_features = feature_extraction.transform(X_test)\n",
        "\n",
        "# Convert Y_train and Y_test values to integers\n",
        "Y_train = Y_train.astype('int')\n",
        "Y_test = Y_test.astype('int')\n"
      ],
      "execution_count": 83,
      "outputs": []
    },
    {
      "cell_type": "code",
      "source": [
        "print(X_train)"
      ],
      "metadata": {
        "colab": {
          "base_uri": "https://localhost:8080/"
        },
        "id": "Xv25O1Kh3flV",
        "outputId": "4b601da0-c237-410d-c9a2-60ee8b2a1806"
      },
      "execution_count": 84,
      "outputs": [
        {
          "output_type": "stream",
          "name": "stdout",
          "text": [
            "1786                   I dun believe u. I thk u told him.\n",
            "3576    And do you have any one that can teach me how ...\n",
            "420     Send a logo 2 ur lover - 2 names joined by a h...\n",
            "5156    Sir, I need Velusamy sir's date of birth and c...\n",
            "3354    I emailed yifeng my part oredi.. Can ü get it ...\n",
            "                              ...                        \n",
            "809          I am taking half day leave bec i am not well\n",
            "993     Up to ü... Ü wan come then come lor... But i d...\n",
            "1726    You know there is. I shall speak to you in  &l...\n",
            "3525    Yeah that'd pretty much be the best case scenario\n",
            "1748                     I think u have the wrong number.\n",
            "Name: Message, Length: 4125, dtype: object\n"
          ]
        }
      ]
    },
    {
      "cell_type": "code",
      "source": [
        "print(X_train_features)"
      ],
      "metadata": {
        "colab": {
          "base_uri": "https://localhost:8080/"
        },
        "id": "bnvaqIK73lWU",
        "outputId": "8504e080-b2c3-48a3-9356-7d64b6e2af9f"
      },
      "execution_count": 85,
      "outputs": [
        {
          "output_type": "stream",
          "name": "stdout",
          "text": [
            "  (0, 6692)\t0.48303813512243965\n",
            "  (0, 6605)\t0.4898673616987752\n",
            "  (0, 1247)\t0.5538832733861689\n",
            "  (0, 2400)\t0.4689535663823655\n",
            "  (1, 1592)\t0.5594126567616489\n",
            "  (1, 5859)\t0.5964494866231046\n",
            "  (1, 6492)\t0.5755914257195885\n",
            "  (2, 300)\t0.16113294658934302\n",
            "  (2, 820)\t0.24488128414489752\n",
            "  (2, 6835)\t0.24488128414489752\n",
            "  (2, 5064)\t0.22967525805125708\n",
            "  (2, 7355)\t0.21568440262445418\n",
            "  (2, 682)\t0.22967525805125708\n",
            "  (2, 25)\t0.24488128414489752\n",
            "  (2, 2564)\t0.19505111090227498\n",
            "  (2, 798)\t0.24488128414489752\n",
            "  (2, 4393)\t0.24488128414489752\n",
            "  (2, 4520)\t0.24488128414489752\n",
            "  (2, 4519)\t0.24488128414489752\n",
            "  (2, 4084)\t0.2644704778405301\n",
            "  (2, 6828)\t0.13848562282513652\n",
            "  (2, 3252)\t0.18176623831152225\n",
            "  (2, 3695)\t0.21568440262445418\n",
            "  (2, 4522)\t0.2363176943466334\n",
            "  (2, 4089)\t0.2196593047164816\n",
            "  :\t:\n",
            "  (4120, 1223)\t0.5846719438819551\n",
            "  (4120, 6456)\t0.4751891362657192\n",
            "  (4120, 3181)\t0.4285103741434733\n",
            "  (4120, 3921)\t0.39220487670240334\n",
            "  (4120, 2101)\t0.30807173962343376\n",
            "  (4121, 5968)\t0.4786671802830861\n",
            "  (4121, 6283)\t0.4786671802830861\n",
            "  (4121, 2234)\t0.4017927559446723\n",
            "  (4121, 7093)\t0.30479406961757016\n",
            "  (4121, 1827)\t0.4699620412025258\n",
            "  (4121, 4064)\t0.25798119556428833\n",
            "  (4122, 5830)\t0.46450686818513914\n",
            "  (4122, 4342)\t0.4905868510580283\n",
            "  (4122, 6119)\t0.4868051225603611\n",
            "  (4122, 3818)\t0.31447423988339285\n",
            "  (4122, 3138)\t0.3215825654206297\n",
            "  (4122, 4105)\t0.32290755595687465\n",
            "  (4123, 5720)\t0.571842199779247\n",
            "  (4123, 1595)\t0.4589070366947927\n",
            "  (4123, 1264)\t0.3822287755202981\n",
            "  (4123, 7365)\t0.3402075943627085\n",
            "  (4123, 5192)\t0.4478401345634717\n",
            "  (4124, 7316)\t0.7095407247401689\n",
            "  (4124, 4681)\t0.5199862107431475\n",
            "  (4124, 6597)\t0.47556944873717305\n"
          ]
        }
      ]
    },
    {
      "cell_type": "code",
      "source": [
        "# Original Logistic Regression Model\n",
        "model = LogisticRegression()"
      ],
      "metadata": {
        "id": "ljWkC9AR8SKw"
      },
      "execution_count": 86,
      "outputs": []
    },
    {
      "cell_type": "code",
      "source": [
        "# Training the Logistic Regression model with the training data\n",
        "model.fit(X_train_features, Y_train)"
      ],
      "metadata": {
        "colab": {
          "base_uri": "https://localhost:8080/",
          "height": 74
        },
        "id": "1t7BPWP_8U3d",
        "outputId": "3429a789-fe06-4e2a-e6c5-1d894d5f4329"
      },
      "execution_count": 87,
      "outputs": [
        {
          "output_type": "execute_result",
          "data": {
            "text/plain": [
              "LogisticRegression()"
            ],
            "text/html": [
              "<style>#sk-container-id-3 {color: black;background-color: white;}#sk-container-id-3 pre{padding: 0;}#sk-container-id-3 div.sk-toggleable {background-color: white;}#sk-container-id-3 label.sk-toggleable__label {cursor: pointer;display: block;width: 100%;margin-bottom: 0;padding: 0.3em;box-sizing: border-box;text-align: center;}#sk-container-id-3 label.sk-toggleable__label-arrow:before {content: \"▸\";float: left;margin-right: 0.25em;color: #696969;}#sk-container-id-3 label.sk-toggleable__label-arrow:hover:before {color: black;}#sk-container-id-3 div.sk-estimator:hover label.sk-toggleable__label-arrow:before {color: black;}#sk-container-id-3 div.sk-toggleable__content {max-height: 0;max-width: 0;overflow: hidden;text-align: left;background-color: #f0f8ff;}#sk-container-id-3 div.sk-toggleable__content pre {margin: 0.2em;color: black;border-radius: 0.25em;background-color: #f0f8ff;}#sk-container-id-3 input.sk-toggleable__control:checked~div.sk-toggleable__content {max-height: 200px;max-width: 100%;overflow: auto;}#sk-container-id-3 input.sk-toggleable__control:checked~label.sk-toggleable__label-arrow:before {content: \"▾\";}#sk-container-id-3 div.sk-estimator input.sk-toggleable__control:checked~label.sk-toggleable__label {background-color: #d4ebff;}#sk-container-id-3 div.sk-label input.sk-toggleable__control:checked~label.sk-toggleable__label {background-color: #d4ebff;}#sk-container-id-3 input.sk-hidden--visually {border: 0;clip: rect(1px 1px 1px 1px);clip: rect(1px, 1px, 1px, 1px);height: 1px;margin: -1px;overflow: hidden;padding: 0;position: absolute;width: 1px;}#sk-container-id-3 div.sk-estimator {font-family: monospace;background-color: #f0f8ff;border: 1px dotted black;border-radius: 0.25em;box-sizing: border-box;margin-bottom: 0.5em;}#sk-container-id-3 div.sk-estimator:hover {background-color: #d4ebff;}#sk-container-id-3 div.sk-parallel-item::after {content: \"\";width: 100%;border-bottom: 1px solid gray;flex-grow: 1;}#sk-container-id-3 div.sk-label:hover label.sk-toggleable__label {background-color: #d4ebff;}#sk-container-id-3 div.sk-serial::before {content: \"\";position: absolute;border-left: 1px solid gray;box-sizing: border-box;top: 0;bottom: 0;left: 50%;z-index: 0;}#sk-container-id-3 div.sk-serial {display: flex;flex-direction: column;align-items: center;background-color: white;padding-right: 0.2em;padding-left: 0.2em;position: relative;}#sk-container-id-3 div.sk-item {position: relative;z-index: 1;}#sk-container-id-3 div.sk-parallel {display: flex;align-items: stretch;justify-content: center;background-color: white;position: relative;}#sk-container-id-3 div.sk-item::before, #sk-container-id-3 div.sk-parallel-item::before {content: \"\";position: absolute;border-left: 1px solid gray;box-sizing: border-box;top: 0;bottom: 0;left: 50%;z-index: -1;}#sk-container-id-3 div.sk-parallel-item {display: flex;flex-direction: column;z-index: 1;position: relative;background-color: white;}#sk-container-id-3 div.sk-parallel-item:first-child::after {align-self: flex-end;width: 50%;}#sk-container-id-3 div.sk-parallel-item:last-child::after {align-self: flex-start;width: 50%;}#sk-container-id-3 div.sk-parallel-item:only-child::after {width: 0;}#sk-container-id-3 div.sk-dashed-wrapped {border: 1px dashed gray;margin: 0 0.4em 0.5em 0.4em;box-sizing: border-box;padding-bottom: 0.4em;background-color: white;}#sk-container-id-3 div.sk-label label {font-family: monospace;font-weight: bold;display: inline-block;line-height: 1.2em;}#sk-container-id-3 div.sk-label-container {text-align: center;}#sk-container-id-3 div.sk-container {/* jupyter's `normalize.less` sets `[hidden] { display: none; }` but bootstrap.min.css set `[hidden] { display: none !important; }` so we also need the `!important` here to be able to override the default hidden behavior on the sphinx rendered scikit-learn.org. See: https://github.com/scikit-learn/scikit-learn/issues/21755 */display: inline-block !important;position: relative;}#sk-container-id-3 div.sk-text-repr-fallback {display: none;}</style><div id=\"sk-container-id-3\" class=\"sk-top-container\"><div class=\"sk-text-repr-fallback\"><pre>LogisticRegression()</pre><b>In a Jupyter environment, please rerun this cell to show the HTML representation or trust the notebook. <br />On GitHub, the HTML representation is unable to render, please try loading this page with nbviewer.org.</b></div><div class=\"sk-container\" hidden><div class=\"sk-item\"><div class=\"sk-estimator sk-toggleable\"><input class=\"sk-toggleable__control sk-hidden--visually\" id=\"sk-estimator-id-3\" type=\"checkbox\" checked><label for=\"sk-estimator-id-3\" class=\"sk-toggleable__label sk-toggleable__label-arrow\">LogisticRegression</label><div class=\"sk-toggleable__content\"><pre>LogisticRegression()</pre></div></div></div></div></div>"
            ]
          },
          "metadata": {},
          "execution_count": 87
        }
      ]
    },
    {
      "cell_type": "code",
      "source": [
        "# Prediction on training data\n",
        "prediction_on_training_data = model.predict(X_train_features)\n",
        "accuracy_on_training_data = accuracy_score(Y_train, prediction_on_training_data)\n",
        "print('Accuracy on training data: ', accuracy_on_training_data)"
      ],
      "metadata": {
        "colab": {
          "base_uri": "https://localhost:8080/"
        },
        "id": "bZSlHkR58Y7o",
        "outputId": "f05575a0-9350-4b11-cdda-75318119e68f"
      },
      "execution_count": 88,
      "outputs": [
        {
          "output_type": "stream",
          "name": "stdout",
          "text": [
            "Accuracy on training data:  0.961939393939394\n"
          ]
        }
      ]
    },
    {
      "cell_type": "code",
      "source": [
        "# Prediction on test data\n",
        "prediction_on_test_data = model.predict(X_test_features)\n",
        "accuracy_on_test_data = accuracy_score(Y_test, prediction_on_test_data)\n",
        "print('Accuracy on test data: ', accuracy_on_test_data)"
      ],
      "metadata": {
        "colab": {
          "base_uri": "https://localhost:8080/"
        },
        "id": "HR7PzNOD8eLs",
        "outputId": "a306ccac-ec63-44c3-f8f4-229b9f0e697c"
      },
      "execution_count": 89,
      "outputs": [
        {
          "output_type": "stream",
          "name": "stdout",
          "text": [
            "Accuracy on test data:  0.9544573643410853\n"
          ]
        }
      ]
    },
    {
      "cell_type": "code",
      "source": [
        "# SMOTE\n",
        "smote = SMOTE(random_state=42)\n",
        "X_train_smote, Y_train_smote = smote.fit_resample(X_train_features, Y_train)"
      ],
      "metadata": {
        "id": "22wH-7Db8jkF"
      },
      "execution_count": 90,
      "outputs": []
    },
    {
      "cell_type": "code",
      "source": [
        "# Predictions\n",
        "y_pred_smote = logreg_smote.predict(X_test_features)"
      ],
      "metadata": {
        "id": "sOsf0ILA8mrt"
      },
      "execution_count": 91,
      "outputs": []
    },
    {
      "cell_type": "code",
      "source": [
        "# Evaluate the model with SMOTE\n",
        "print(\"Classification Report with SMOTE:\\n\", classification_report(Y_test, y_pred_smote))\n"
      ],
      "metadata": {
        "colab": {
          "base_uri": "https://localhost:8080/"
        },
        "id": "q5vWVrNY8ql9",
        "outputId": "23527a79-3da2-4a07-ffb2-7a8dc033f4a6"
      },
      "execution_count": 92,
      "outputs": [
        {
          "output_type": "stream",
          "name": "stdout",
          "text": [
            "Classification Report with SMOTE:\n",
            "               precision    recall  f1-score   support\n",
            "\n",
            "           0       0.98      0.88      0.92       139\n",
            "           1       0.98      1.00      0.99       893\n",
            "\n",
            "    accuracy                           0.98      1032\n",
            "   macro avg       0.98      0.94      0.96      1032\n",
            "weighted avg       0.98      0.98      0.98      1032\n",
            "\n"
          ]
        }
      ]
    },
    {
      "cell_type": "code",
      "source": [
        "# ROC Curve with SMOTE\n",
        "y_prob_smote = logreg_smote.predict_proba(X_test_features)[:, 1]\n",
        "fpr_smote, tpr_smote, thresholds_smote = roc_curve(Y_test, y_prob_smote)\n",
        "roc_auc_smote = auc(fpr_smote, tpr_smote)"
      ],
      "metadata": {
        "id": "egB7D7oZ8xiP"
      },
      "execution_count": 93,
      "outputs": []
    },
    {
      "cell_type": "code",
      "source": [
        "# Plot the ROC curve with SMOTE\n",
        "plt.figure(figsize=(8, 6))\n",
        "plt.plot(fpr_smote, tpr_smote, color='darkorange', lw=2, label=f'ROC curve with SMOTE (AUC = {roc_auc_smote:.2f})')\n",
        "plt.plot([0, 1], [0, 1], color='navy', lw=2, linestyle='--')\n",
        "plt.xlabel('False Positive Rate')\n",
        "plt.ylabel('True Positive Rate (Recall)')\n",
        "plt.title('Receiver Operating Characteristic (ROC) Curve with SMOTE')\n",
        "plt.legend(loc='lower right')\n",
        "plt.show()"
      ],
      "metadata": {
        "colab": {
          "base_uri": "https://localhost:8080/",
          "height": 564
        },
        "id": "FG4muoH881ed",
        "outputId": "d2b5b076-45ae-4444-c6b2-07e1c0931f90"
      },
      "execution_count": 94,
      "outputs": [
        {
          "output_type": "display_data",
          "data": {
            "text/plain": [
              "<Figure size 800x600 with 1 Axes>"
            ],
            "image/png": "[encoded data removed]"
          },
          "metadata": {}
        }
      ]
    },
    {
      "cell_type": "code",
      "metadata": {
        "colab": {
          "base_uri": "https://localhost:8080/"
        },
        "id": "h60z1__mWql6",
        "outputId": "de11a71f-ab51-4a95-9c3e-29f97097fc88"
      },
      "source": [
        "input_mail = [\"I've been searching for the right words to thank you for this breather. I promise i wont take your help for granted and will fulfil my promise. You have been wonderful and a blessing at all times\"]\n",
        "\n",
        "# convert text to feature vectors\n",
        "input_data_features = feature_extraction.transform(input_mail)\n",
        "\n",
        "# making prediction\n",
        "\n",
        "prediction = model.predict(input_data_features)\n",
        "print(prediction)\n",
        "\n",
        "\n",
        "if (prediction[0]==1):\n",
        "  print('Ham mail')\n",
        "\n",
        "else:\n",
        "  print('Spam mail')"
      ],
      "execution_count": 95,
      "outputs": [
        {
          "output_type": "stream",
          "name": "stdout",
          "text": [
            "[1]\n",
            "Ham mail\n"
          ]
        }
      ]
    }
  ]
}